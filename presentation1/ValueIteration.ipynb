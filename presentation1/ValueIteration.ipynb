{
 "cells": [
  {
   "cell_type": "code",
   "execution_count": 142,
   "metadata": {
    "collapsed": false
   },
   "outputs": [
    {
     "name": "stdout",
     "output_type": "stream",
     "text": [
      "T  o  o  o\n",
      "x  o  o  o\n",
      "o  o  o  o\n",
      "o  o  o  T\n"
     ]
    }
   ],
   "source": [
    "import gym\n",
    "import numpy as np\n",
    "import seaborn as sns; sns.set()\n",
    "%matplotlib inline\n",
    "\n",
    "from lib.envs.gridworld import GridworldEnv # https://github.com/dennybritz/reinforcement-learning/blob/master/lib/envs/gridworld.py\n",
    "\n",
    "env = GridworldEnv()\n",
    "\n",
    "env.render()"
   ]
  },
  {
   "cell_type": "markdown",
   "metadata": {},
   "source": [
    "# Value Iteration\n",
    "\n",
    "![title](VI.png)"
   ]
  },
  {
   "cell_type": "code",
   "execution_count": 147,
   "metadata": {
    "collapsed": false,
    "scrolled": false
   },
   "outputs": [
    {
     "data": {
      "image/png": "[encoded data removed]",
      "text/plain": [
       "<matplotlib.figure.Figure at 0x10a811050>"
      ]
     },
     "metadata": {},
     "output_type": "display_data"
    },
    {
     "name": "stdout",
     "output_type": "stream",
     "text": [
      "T  o  o  o\n",
      "o  x  o  o\n",
      "o  o  o  o\n",
      "o  o  o  T\n"
     ]
    }
   ],
   "source": [
    "# 0 is left, 1 is down, 2 is right, and 3 is up\n",
    "\n",
    "size = env.observation_space.n\n",
    "\n",
    "V = np.zeros((size))\n",
    "y = 0.75\n",
    "\n",
    "epsilon = 1e-5\n",
    "\n",
    "env.reset()\n",
    "\n",
    "for i in range(0, 1000):\n",
    "    delta = 0.0\n",
    "    for s in range(0, env.observation_space.n):\n",
    "        action_value = np.zeros((4))\n",
    "        v = V[s]\n",
    "        for a in env.P[s]:\n",
    "            for p, s_new, r, term in env.P[s][a]:\n",
    "                action_value[a] += p*(r + y * V[s_new])\n",
    "        V[s] = np.max(action_value)\n",
    "        delta = np.max((delta, np.abs(V[s]-v)))\n",
    "    if delta<epsilon:\n",
    "        break\n",
    "\n",
    "size_sqrt = int(np.sqrt(size))\n",
    "sns.heatmap(V.reshape((size_sqrt, size_sqrt)))\n",
    "sns.plt.show()\n",
    "\n",
    "env.render()"
   ]
  },
  {
   "cell_type": "markdown",
   "metadata": {},
   "source": [
    "# Policy Iteration\n",
    "\n",
    "![title](PI.png)"
   ]
  },
  {
   "cell_type": "code",
   "execution_count": 141,
   "metadata": {
    "collapsed": false
   },
   "outputs": [
    {
     "name": "stdout",
     "output_type": "stream",
     "text": [
      "[[0 3 3 2]\n",
      " [0 0 0 2]\n",
      " [0 0 1 2]\n",
      " [0 1 1 0]]\n",
      "[[ 0.   -1.   -1.5  -1.75]\n",
      " [-1.   -1.5  -1.75 -1.5 ]\n",
      " [-1.5  -1.75 -1.5  -1.  ]\n",
      " [-1.75 -1.5  -1.    0.  ]]\n",
      "T  o  o  o\n",
      "o  o  o  o\n",
      "o  o  o  o\n",
      "o  o  x  T\n"
     ]
    },
    {
     "data": {
      "image/png": "[encoded data removed]",
      "text/plain": [
       "<matplotlib.figure.Figure at 0x10aa83590>"
      ]
     },
     "metadata": {},
     "output_type": "display_data"
    }
   ],
   "source": [
    "nb_actions = 4\n",
    "nb_states = env.observation_space.n\n",
    "\n",
    "prob = np.random.dirichlet(np.repeat(1, nb_actions), nb_states)\n",
    "\n",
    "pi = np.argmax(prob, axis=1)\n",
    "\n",
    "y = 0.5\n",
    "env.reset()\n",
    "epsilon = 1e-7\n",
    "\n",
    "size = env.observation_space.n\n",
    "import pdb\n",
    "\n",
    "\n",
    "def policyEvaluation(pi, env):\n",
    "    V = np.zeros((size))\n",
    "    for i in range(0, 1000):\n",
    "        delta = 0\n",
    "        for s in range(0, env.observation_space.n):\n",
    "            v = V[s]\n",
    "            V[s] = 0\n",
    "            a = pi[s]\n",
    "            for p, s_new, r, term in env.P[s][a]:\n",
    "                #pdb.set_trace()\n",
    "                V[s] += p * (r + y*V[s_new])\n",
    "            delta = np.max((delta, np.abs(V[s]-v)))\n",
    "        if delta < epsilon:\n",
    "            return V\n",
    "            \n",
    "def policyImprovement(pi, env):\n",
    "    for i in range(0, 10000):\n",
    "        policy_stable = True\n",
    "        V = policyEvaluation(pi, env)\n",
    "        for s in range(env.nS):\n",
    "            old_action = pi[s]\n",
    "            action_value = np.zeros((4))\n",
    "            for a in range(env.nA):\n",
    "                for p, s_new, r, term in env.P[s][a]:\n",
    "                    action_value[a] += p*(r + y * V[s_new])\n",
    "\n",
    "            pi[s] = np.argmax(action_value) # break tie by choosing smallest indice\n",
    "            \n",
    "            if old_action != pi[s]:\n",
    "                policy_stable = False\n",
    "                \n",
    "        if policy_stable:\n",
    "            return pi, V\n",
    "            \n",
    "env = GridworldEnv()            \n",
    "pi_opt, V_opt = policyImprovement(pi, env)\n",
    "\n",
    "\n",
    "\n",
    "size_sqrt = int(np.sqrt(nb_states))\n",
    "print pi_opt.reshape((size_sqrt, size_sqrt))\n",
    "print V_opt.reshape((size_sqrt, size_sqrt))\n",
    "sns.heatmap(V_opt.reshape((size_sqrt, size_sqrt)))\n",
    "\n",
    "env.render()\n",
    "\n",
    "# 0 is left, 1 is down, 2 is right, and 3 is up"
   ]
  },
  {
   "cell_type": "code",
   "execution_count": null,
   "metadata": {
    "collapsed": true
   },
   "outputs": [],
   "source": [
    "def policyImprovement():\n",
    "    pass\n",
    "\n",
    "def partialPolicyImprovement():\n",
    "    pass\n",
    "\n"
   ]
  },
  {
   "cell_type": "markdown",
   "metadata": {},
   "source": [
    "![title](MPI.png)"
   ]
  },
  {
   "cell_type": "markdown",
   "metadata": {},
   "source": [
    "![title](GS.png)"
   ]
  },
  {
   "cell_type": "code",
   "execution_count": 158,
   "metadata": {
    "collapsed": false
   },
   "outputs": [
    {
     "name": "stdout",
     "output_type": "stream",
     "text": [
      "[[ 0.  -1.  -1.9 -1.9]\n",
      " [-1.  -1.9 -1.9 -1.9]\n",
      " [-1.9 -1.9 -1.9 -1. ]\n",
      " [-1.9 -1.9 -1.   0. ]]\n"
     ]
    }
   ],
   "source": [
    "V = np.zeros((env.nS))\n",
    "V_old = np.zeros((env.nS))\n",
    "\n",
    "y = 0.9\n",
    "\n",
    "for i in range(1000):\n",
    "    for s in range(env.nS):\n",
    "        action_value = np.zeros((env.nA))\n",
    "        for a in range(env.nA):\n",
    "            for p, s_new, r, term in env.P[s][a]:\n",
    "                action_value[a] += p*r #+ y * V[s_new])\n",
    "                if s_new < s: # i < j\n",
    "                    action_value[a] += p*y*V[s_new]\n",
    "                else: #i >= j\n",
    "                    action_value[a] += p*y*V_old[s_new]\n",
    "        V[s] = np.max(action_value)\n",
    "    if np.linalg.norm((V-V_old),2) < epsilon: #* (1-y)/(2y)):\n",
    "        break\n",
    "    else:\n",
    "        V_old = V\n",
    "        \n",
    "print V.reshape((4,4))"
   ]
  },
  {
   "cell_type": "code",
   "execution_count": 174,
   "metadata": {
    "collapsed": false
   },
   "outputs": [
    {
     "name": "stdout",
     "output_type": "stream",
     "text": [
      "[(90, 3), (100, 3)]\n",
      "(100, 3)\n"
     ]
    }
   ],
   "source": [
    "import heapq\n",
    "\n",
    "nums = []\n",
    "\n",
    "\n",
    "\n",
    "heapq.heapify(nums)\n",
    "print nums\n",
    "print max(nums)\n",
    "\n",
    "#print heapq.nlargest(1, nums)"
   ]
  },
  {
   "cell_type": "markdown",
   "metadata": {
    "collapsed": true
   },
   "source": [
    "![title](PSA.png)"
   ]
  },
  {
   "cell_type": "code",
   "execution_count": null,
   "metadata": {
    "collapsed": true
   },
   "outputs": [],
   "source": []
  }
 ],
 "metadata": {
  "kernelspec": {
   "display_name": "Python 2",
   "language": "python",
   "name": "python2"
  },
  "language_info": {
   "codemirror_mode": {
    "name": "ipython",
    "version": 2
   },
   "file_extension": ".py",
   "mimetype": "text/x-python",
   "name": "python",
   "nbconvert_exporter": "python",
   "pygments_lexer": "ipython2",
   "version": "2.7.13"
  }
 },
 "nbformat": 4,
 "nbformat_minor": 0
}
